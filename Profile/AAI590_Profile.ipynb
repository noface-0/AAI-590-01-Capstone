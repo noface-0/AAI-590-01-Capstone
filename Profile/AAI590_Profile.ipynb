{
  "nbformat": 4,
  "nbformat_minor": 0,
  "metadata": {
    "colab": {
      "provenance": []
    },
    "kernelspec": {
      "name": "python3",
      "display_name": "Python 3"
    },
    "language_info": {
      "name": "python"
    }
  },
  "cells": [
    {
      "cell_type": "markdown",
      "source": [
        "# Code for loading the portfolio data from input_data"
      ],
      "metadata": {
        "id": "pY64VtLPxGE2"
      }
    },
    {
      "cell_type": "code",
      "execution_count": 121,
      "metadata": {
        "id": "_LdWufO7ww8s"
      },
      "outputs": [],
      "source": [
        "#@title 1: Load libraries\n",
        "import pandas as pd\n",
        "import numpy as np\n",
        "import datetime"
      ]
    },
    {
      "cell_type": "code",
      "source": [
        "#@title 2: load data file\n",
        "df = pd.read_csv('input_data.csv')"
      ],
      "metadata": {
        "id": "x3P5uuAAxSr7"
      },
      "execution_count": 122,
      "outputs": []
    },
    {
      "cell_type": "code",
      "source": [
        "#@title 2.1: Review\n",
        "df.head()"
      ],
      "metadata": {
        "colab": {
          "base_uri": "https://localhost:8080/",
          "height": 337
        },
        "id": "d7aNggqmxe4l",
        "outputId": "02b8addf-9600-4c47-b574-e45ed15b0ee4"
      },
      "execution_count": 123,
      "outputs": [
        {
          "output_type": "execute_result",
          "data": {
            "text/plain": [
              "           name  social_security_number_or_taxpayer_identification_number  \\\n",
              "0    James Bond                                             435578          \n",
              "1    Penny Love                                             355666          \n",
              "2  Que Marshall                                           48907888          \n",
              "\n",
              "                                   address  telephone_number  \\\n",
              "0        545 Tribe St. Hollywood, CA 90445        2899098876   \n",
              "1  35566 Sunset Blvd. Los Angeles CA 92333        3102908899   \n",
              "2            456 James St. Boston MA 02030        2119908876   \n",
              "\n",
              "                 email        dob       id employment_status  \\\n",
              "0     jamesb@gmail.com  8/10/1966        7                 E   \n",
              "1  pennylove@gmail.com   7/1/1970    67778                 E   \n",
              "2  Qmarshall@gmail.com  4/16/1957  6765555                 R   \n",
              "\n",
              "  whether_you_are_employed_by_a_brokerage_firm  annual_income  \\\n",
              "0                                            N         400000   \n",
              "1                                            N         150000   \n",
              "2                                            N         300000   \n",
              "\n",
              "  other_investments  financial_situation tax_status  \\\n",
              "0               NaN                  NaN          S   \n",
              "1               NaN                  NaN          M   \n",
              "2                 Y                  NaN          M   \n",
              "\n",
              "  investment_experience_and_objectives investment_time_horizon  \\\n",
              "0                                    S                     NaN   \n",
              "1                                    S                     NaN   \n",
              "2                                    M                   short   \n",
              "\n",
              "   liquidity_needs_and_tolerance_for_risk  net_worth trading_experience  \\\n",
              "0                                     NaN    7000000                  M   \n",
              "1                                     NaN     300000                  N   \n",
              "2                                     NaN    3000000                  M   \n",
              "\n",
              "  financial_knowledge  Logic networth  \n",
              "0                   G             NaN  \n",
              "1                   M             NaN  \n",
              "2                   G             NaN  "
            ],
            "text/html": [
              "\n",
              "  <div id=\"df-6a6e5061-ac56-4bb0-90fe-37d613e0542c\" class=\"colab-df-container\">\n",
              "    <div>\n",
              "<style scoped>\n",
              "    .dataframe tbody tr th:only-of-type {\n",
              "        vertical-align: middle;\n",
              "    }\n",
              "\n",
              "    .dataframe tbody tr th {\n",
              "        vertical-align: top;\n",
              "    }\n",
              "\n",
              "    .dataframe thead th {\n",
              "        text-align: right;\n",
              "    }\n",
              "</style>\n",
              "<table border=\"1\" class=\"dataframe\">\n",
              "  <thead>\n",
              "    <tr style=\"text-align: right;\">\n",
              "      <th></th>\n",
              "      <th>name</th>\n",
              "      <th>social_security_number_or_taxpayer_identification_number</th>\n",
              "      <th>address</th>\n",
              "      <th>telephone_number</th>\n",
              "      <th>email</th>\n",
              "      <th>dob</th>\n",
              "      <th>id</th>\n",
              "      <th>employment_status</th>\n",
              "      <th>whether_you_are_employed_by_a_brokerage_firm</th>\n",
              "      <th>annual_income</th>\n",
              "      <th>other_investments</th>\n",
              "      <th>financial_situation</th>\n",
              "      <th>tax_status</th>\n",
              "      <th>investment_experience_and_objectives</th>\n",
              "      <th>investment_time_horizon</th>\n",
              "      <th>liquidity_needs_and_tolerance_for_risk</th>\n",
              "      <th>net_worth</th>\n",
              "      <th>trading_experience</th>\n",
              "      <th>financial_knowledge</th>\n",
              "      <th>Logic networth</th>\n",
              "    </tr>\n",
              "  </thead>\n",
              "  <tbody>\n",
              "    <tr>\n",
              "      <th>0</th>\n",
              "      <td>James Bond</td>\n",
              "      <td>435578</td>\n",
              "      <td>545 Tribe St. Hollywood, CA 90445</td>\n",
              "      <td>2899098876</td>\n",
              "      <td>jamesb@gmail.com</td>\n",
              "      <td>8/10/1966</td>\n",
              "      <td>7</td>\n",
              "      <td>E</td>\n",
              "      <td>N</td>\n",
              "      <td>400000</td>\n",
              "      <td>NaN</td>\n",
              "      <td>NaN</td>\n",
              "      <td>S</td>\n",
              "      <td>S</td>\n",
              "      <td>NaN</td>\n",
              "      <td>NaN</td>\n",
              "      <td>7000000</td>\n",
              "      <td>M</td>\n",
              "      <td>G</td>\n",
              "      <td>NaN</td>\n",
              "    </tr>\n",
              "    <tr>\n",
              "      <th>1</th>\n",
              "      <td>Penny Love</td>\n",
              "      <td>355666</td>\n",
              "      <td>35566 Sunset Blvd. Los Angeles CA 92333</td>\n",
              "      <td>3102908899</td>\n",
              "      <td>pennylove@gmail.com</td>\n",
              "      <td>7/1/1970</td>\n",
              "      <td>67778</td>\n",
              "      <td>E</td>\n",
              "      <td>N</td>\n",
              "      <td>150000</td>\n",
              "      <td>NaN</td>\n",
              "      <td>NaN</td>\n",
              "      <td>M</td>\n",
              "      <td>S</td>\n",
              "      <td>NaN</td>\n",
              "      <td>NaN</td>\n",
              "      <td>300000</td>\n",
              "      <td>N</td>\n",
              "      <td>M</td>\n",
              "      <td>NaN</td>\n",
              "    </tr>\n",
              "    <tr>\n",
              "      <th>2</th>\n",
              "      <td>Que Marshall</td>\n",
              "      <td>48907888</td>\n",
              "      <td>456 James St. Boston MA 02030</td>\n",
              "      <td>2119908876</td>\n",
              "      <td>Qmarshall@gmail.com</td>\n",
              "      <td>4/16/1957</td>\n",
              "      <td>6765555</td>\n",
              "      <td>R</td>\n",
              "      <td>N</td>\n",
              "      <td>300000</td>\n",
              "      <td>Y</td>\n",
              "      <td>NaN</td>\n",
              "      <td>M</td>\n",
              "      <td>M</td>\n",
              "      <td>short</td>\n",
              "      <td>NaN</td>\n",
              "      <td>3000000</td>\n",
              "      <td>M</td>\n",
              "      <td>G</td>\n",
              "      <td>NaN</td>\n",
              "    </tr>\n",
              "  </tbody>\n",
              "</table>\n",
              "</div>\n",
              "    <div class=\"colab-df-buttons\">\n",
              "\n",
              "  <div class=\"colab-df-container\">\n",
              "    <button class=\"colab-df-convert\" onclick=\"convertToInteractive('df-6a6e5061-ac56-4bb0-90fe-37d613e0542c')\"\n",
              "            title=\"Convert this dataframe to an interactive table.\"\n",
              "            style=\"display:none;\">\n",
              "\n",
              "  <svg xmlns=\"http://www.w3.org/2000/svg\" height=\"24px\" viewBox=\"0 -960 960 960\">\n",
              "    <path d=\"M120-120v-720h720v720H120Zm60-500h600v-160H180v160Zm220 220h160v-160H400v160Zm0 220h160v-160H400v160ZM180-400h160v-160H180v160Zm440 0h160v-160H620v160ZM180-180h160v-160H180v160Zm440 0h160v-160H620v160Z\"/>\n",
              "  </svg>\n",
              "    </button>\n",
              "\n",
              "  <style>\n",
              "    .colab-df-container {\n",
              "      display:flex;\n",
              "      gap: 12px;\n",
              "    }\n",
              "\n",
              "    .colab-df-convert {\n",
              "      background-color: #E8F0FE;\n",
              "      border: none;\n",
              "      border-radius: 50%;\n",
              "      cursor: pointer;\n",
              "      display: none;\n",
              "      fill: #1967D2;\n",
              "      height: 32px;\n",
              "      padding: 0 0 0 0;\n",
              "      width: 32px;\n",
              "    }\n",
              "\n",
              "    .colab-df-convert:hover {\n",
              "      background-color: #E2EBFA;\n",
              "      box-shadow: 0px 1px 2px rgba(60, 64, 67, 0.3), 0px 1px 3px 1px rgba(60, 64, 67, 0.15);\n",
              "      fill: #174EA6;\n",
              "    }\n",
              "\n",
              "    .colab-df-buttons div {\n",
              "      margin-bottom: 4px;\n",
              "    }\n",
              "\n",
              "    [theme=dark] .colab-df-convert {\n",
              "      background-color: #3B4455;\n",
              "      fill: #D2E3FC;\n",
              "    }\n",
              "\n",
              "    [theme=dark] .colab-df-convert:hover {\n",
              "      background-color: #434B5C;\n",
              "      box-shadow: 0px 1px 3px 1px rgba(0, 0, 0, 0.15);\n",
              "      filter: drop-shadow(0px 1px 2px rgba(0, 0, 0, 0.3));\n",
              "      fill: #FFFFFF;\n",
              "    }\n",
              "  </style>\n",
              "\n",
              "    <script>\n",
              "      const buttonEl =\n",
              "        document.querySelector('#df-6a6e5061-ac56-4bb0-90fe-37d613e0542c button.colab-df-convert');\n",
              "      buttonEl.style.display =\n",
              "        google.colab.kernel.accessAllowed ? 'block' : 'none';\n",
              "\n",
              "      async function convertToInteractive(key) {\n",
              "        const element = document.querySelector('#df-6a6e5061-ac56-4bb0-90fe-37d613e0542c');\n",
              "        const dataTable =\n",
              "          await google.colab.kernel.invokeFunction('convertToInteractive',\n",
              "                                                    [key], {});\n",
              "        if (!dataTable) return;\n",
              "\n",
              "        const docLinkHtml = 'Like what you see? Visit the ' +\n",
              "          '<a target=\"_blank\" href=https://colab.research.google.com/notebooks/data_table.ipynb>data table notebook</a>'\n",
              "          + ' to learn more about interactive tables.';\n",
              "        element.innerHTML = '';\n",
              "        dataTable['output_type'] = 'display_data';\n",
              "        await google.colab.output.renderOutput(dataTable, element);\n",
              "        const docLink = document.createElement('div');\n",
              "        docLink.innerHTML = docLinkHtml;\n",
              "        element.appendChild(docLink);\n",
              "      }\n",
              "    </script>\n",
              "  </div>\n",
              "\n",
              "\n",
              "<div id=\"df-c7a29df6-ffc5-4847-a061-4648a6f96cea\">\n",
              "  <button class=\"colab-df-quickchart\" onclick=\"quickchart('df-c7a29df6-ffc5-4847-a061-4648a6f96cea')\"\n",
              "            title=\"Suggest charts\"\n",
              "            style=\"display:none;\">\n",
              "\n",
              "<svg xmlns=\"http://www.w3.org/2000/svg\" height=\"24px\"viewBox=\"0 0 24 24\"\n",
              "     width=\"24px\">\n",
              "    <g>\n",
              "        <path d=\"M19 3H5c-1.1 0-2 .9-2 2v14c0 1.1.9 2 2 2h14c1.1 0 2-.9 2-2V5c0-1.1-.9-2-2-2zM9 17H7v-7h2v7zm4 0h-2V7h2v10zm4 0h-2v-4h2v4z\"/>\n",
              "    </g>\n",
              "</svg>\n",
              "  </button>\n",
              "\n",
              "<style>\n",
              "  .colab-df-quickchart {\n",
              "      --bg-color: #E8F0FE;\n",
              "      --fill-color: #1967D2;\n",
              "      --hover-bg-color: #E2EBFA;\n",
              "      --hover-fill-color: #174EA6;\n",
              "      --disabled-fill-color: #AAA;\n",
              "      --disabled-bg-color: #DDD;\n",
              "  }\n",
              "\n",
              "  [theme=dark] .colab-df-quickchart {\n",
              "      --bg-color: #3B4455;\n",
              "      --fill-color: #D2E3FC;\n",
              "      --hover-bg-color: #434B5C;\n",
              "      --hover-fill-color: #FFFFFF;\n",
              "      --disabled-bg-color: #3B4455;\n",
              "      --disabled-fill-color: #666;\n",
              "  }\n",
              "\n",
              "  .colab-df-quickchart {\n",
              "    background-color: var(--bg-color);\n",
              "    border: none;\n",
              "    border-radius: 50%;\n",
              "    cursor: pointer;\n",
              "    display: none;\n",
              "    fill: var(--fill-color);\n",
              "    height: 32px;\n",
              "    padding: 0;\n",
              "    width: 32px;\n",
              "  }\n",
              "\n",
              "  .colab-df-quickchart:hover {\n",
              "    background-color: var(--hover-bg-color);\n",
              "    box-shadow: 0 1px 2px rgba(60, 64, 67, 0.3), 0 1px 3px 1px rgba(60, 64, 67, 0.15);\n",
              "    fill: var(--button-hover-fill-color);\n",
              "  }\n",
              "\n",
              "  .colab-df-quickchart-complete:disabled,\n",
              "  .colab-df-quickchart-complete:disabled:hover {\n",
              "    background-color: var(--disabled-bg-color);\n",
              "    fill: var(--disabled-fill-color);\n",
              "    box-shadow: none;\n",
              "  }\n",
              "\n",
              "  .colab-df-spinner {\n",
              "    border: 2px solid var(--fill-color);\n",
              "    border-color: transparent;\n",
              "    border-bottom-color: var(--fill-color);\n",
              "    animation:\n",
              "      spin 1s steps(1) infinite;\n",
              "  }\n",
              "\n",
              "  @keyframes spin {\n",
              "    0% {\n",
              "      border-color: transparent;\n",
              "      border-bottom-color: var(--fill-color);\n",
              "      border-left-color: var(--fill-color);\n",
              "    }\n",
              "    20% {\n",
              "      border-color: transparent;\n",
              "      border-left-color: var(--fill-color);\n",
              "      border-top-color: var(--fill-color);\n",
              "    }\n",
              "    30% {\n",
              "      border-color: transparent;\n",
              "      border-left-color: var(--fill-color);\n",
              "      border-top-color: var(--fill-color);\n",
              "      border-right-color: var(--fill-color);\n",
              "    }\n",
              "    40% {\n",
              "      border-color: transparent;\n",
              "      border-right-color: var(--fill-color);\n",
              "      border-top-color: var(--fill-color);\n",
              "    }\n",
              "    60% {\n",
              "      border-color: transparent;\n",
              "      border-right-color: var(--fill-color);\n",
              "    }\n",
              "    80% {\n",
              "      border-color: transparent;\n",
              "      border-right-color: var(--fill-color);\n",
              "      border-bottom-color: var(--fill-color);\n",
              "    }\n",
              "    90% {\n",
              "      border-color: transparent;\n",
              "      border-bottom-color: var(--fill-color);\n",
              "    }\n",
              "  }\n",
              "</style>\n",
              "\n",
              "  <script>\n",
              "    async function quickchart(key) {\n",
              "      const quickchartButtonEl =\n",
              "        document.querySelector('#' + key + ' button');\n",
              "      quickchartButtonEl.disabled = true;  // To prevent multiple clicks.\n",
              "      quickchartButtonEl.classList.add('colab-df-spinner');\n",
              "      try {\n",
              "        const charts = await google.colab.kernel.invokeFunction(\n",
              "            'suggestCharts', [key], {});\n",
              "      } catch (error) {\n",
              "        console.error('Error during call to suggestCharts:', error);\n",
              "      }\n",
              "      quickchartButtonEl.classList.remove('colab-df-spinner');\n",
              "      quickchartButtonEl.classList.add('colab-df-quickchart-complete');\n",
              "    }\n",
              "    (() => {\n",
              "      let quickchartButtonEl =\n",
              "        document.querySelector('#df-c7a29df6-ffc5-4847-a061-4648a6f96cea button');\n",
              "      quickchartButtonEl.style.display =\n",
              "        google.colab.kernel.accessAllowed ? 'block' : 'none';\n",
              "    })();\n",
              "  </script>\n",
              "</div>\n",
              "\n",
              "    </div>\n",
              "  </div>\n"
            ],
            "application/vnd.google.colaboratory.intrinsic+json": {
              "type": "dataframe",
              "variable_name": "df",
              "summary": "{\n  \"name\": \"df\",\n  \"rows\": 3,\n  \"fields\": [\n    {\n      \"column\": \"name\",\n      \"properties\": {\n        \"dtype\": \"string\",\n        \"num_unique_values\": 3,\n        \"samples\": [\n          \"James Bond\",\n          \"Penny Love\",\n          \"Que Marshall\"\n        ],\n        \"semantic_type\": \"\",\n        \"description\": \"\"\n      }\n    },\n    {\n      \"column\": \"social_security_number_or_taxpayer_identification_number\",\n      \"properties\": {\n        \"dtype\": \"number\",\n        \"std\": 28008598,\n        \"min\": 355666,\n        \"max\": 48907888,\n        \"num_unique_values\": 3,\n        \"samples\": [\n          435578,\n          355666,\n          48907888\n        ],\n        \"semantic_type\": \"\",\n        \"description\": \"\"\n      }\n    },\n    {\n      \"column\": \"address\",\n      \"properties\": {\n        \"dtype\": \"string\",\n        \"num_unique_values\": 3,\n        \"samples\": [\n          \"545 Tribe St. Hollywood, CA 90445\",\n          \"35566 Sunset Blvd. Los Angeles CA 92333\",\n          \"456 James St. Boston MA 02030\"\n        ],\n        \"semantic_type\": \"\",\n        \"description\": \"\"\n      }\n    },\n    {\n      \"column\": \"telephone_number\",\n      \"properties\": {\n        \"dtype\": \"number\",\n        \"std\": 518807065,\n        \"min\": 2119908876,\n        \"max\": 3102908899,\n        \"num_unique_values\": 3,\n        \"samples\": [\n          2899098876,\n          3102908899,\n          2119908876\n        ],\n        \"semantic_type\": \"\",\n        \"description\": \"\"\n      }\n    },\n    {\n      \"column\": \"email\",\n      \"properties\": {\n        \"dtype\": \"string\",\n        \"num_unique_values\": 3,\n        \"samples\": [\n          \"jamesb@gmail.com\",\n          \"pennylove@gmail.com\",\n          \"Qmarshall@gmail.com\"\n        ],\n        \"semantic_type\": \"\",\n        \"description\": \"\"\n      }\n    },\n    {\n      \"column\": \"dob\",\n      \"properties\": {\n        \"dtype\": \"object\",\n        \"num_unique_values\": 3,\n        \"samples\": [\n          \"8/10/1966\",\n          \"7/1/1970\",\n          \"4/16/1957\"\n        ],\n        \"semantic_type\": \"\",\n        \"description\": \"\"\n      }\n    },\n    {\n      \"column\": \"id\",\n      \"properties\": {\n        \"dtype\": \"number\",\n        \"std\": 3886674,\n        \"min\": 7,\n        \"max\": 6765555,\n        \"num_unique_values\": 3,\n        \"samples\": [\n          7,\n          67778,\n          6765555\n        ],\n        \"semantic_type\": \"\",\n        \"description\": \"\"\n      }\n    },\n    {\n      \"column\": \"employment_status\",\n      \"properties\": {\n        \"dtype\": \"string\",\n        \"num_unique_values\": 2,\n        \"samples\": [\n          \"R\",\n          \"E\"\n        ],\n        \"semantic_type\": \"\",\n        \"description\": \"\"\n      }\n    },\n    {\n      \"column\": \"whether_you_are_employed_by_a_brokerage_firm\",\n      \"properties\": {\n        \"dtype\": \"category\",\n        \"num_unique_values\": 1,\n        \"samples\": [\n          \"N\"\n        ],\n        \"semantic_type\": \"\",\n        \"description\": \"\"\n      }\n    },\n    {\n      \"column\": \"annual_income\",\n      \"properties\": {\n        \"dtype\": \"number\",\n        \"std\": 125830,\n        \"min\": 150000,\n        \"max\": 400000,\n        \"num_unique_values\": 3,\n        \"samples\": [\n          400000\n        ],\n        \"semantic_type\": \"\",\n        \"description\": \"\"\n      }\n    },\n    {\n      \"column\": \"other_investments\",\n      \"properties\": {\n        \"dtype\": \"category\",\n        \"num_unique_values\": 1,\n        \"samples\": [\n          \"Y\"\n        ],\n        \"semantic_type\": \"\",\n        \"description\": \"\"\n      }\n    },\n    {\n      \"column\": \"financial_situation\",\n      \"properties\": {\n        \"dtype\": \"number\",\n        \"std\": null,\n        \"min\": null,\n        \"max\": null,\n        \"num_unique_values\": 0,\n        \"samples\": [],\n        \"semantic_type\": \"\",\n        \"description\": \"\"\n      }\n    },\n    {\n      \"column\": \"tax_status\",\n      \"properties\": {\n        \"dtype\": \"string\",\n        \"num_unique_values\": 2,\n        \"samples\": [],\n        \"semantic_type\": \"\",\n        \"description\": \"\"\n      }\n    },\n    {\n      \"column\": \"investment_experience_and_objectives\",\n      \"properties\": {\n        \"dtype\": \"string\",\n        \"num_unique_values\": 2,\n        \"samples\": [],\n        \"semantic_type\": \"\",\n        \"description\": \"\"\n      }\n    },\n    {\n      \"column\": \"investment_time_horizon\",\n      \"properties\": {\n        \"dtype\": \"category\",\n        \"num_unique_values\": 1,\n        \"samples\": [],\n        \"semantic_type\": \"\",\n        \"description\": \"\"\n      }\n    },\n    {\n      \"column\": \"liquidity_needs_and_tolerance_for_risk\",\n      \"properties\": {\n        \"dtype\": \"number\",\n        \"std\": null,\n        \"min\": null,\n        \"max\": null,\n        \"num_unique_values\": 0,\n        \"samples\": [],\n        \"semantic_type\": \"\",\n        \"description\": \"\"\n      }\n    },\n    {\n      \"column\": \"net_worth\",\n      \"properties\": {\n        \"dtype\": \"number\",\n        \"std\": 3370954,\n        \"min\": 300000,\n        \"max\": 7000000,\n        \"num_unique_values\": 3,\n        \"samples\": [],\n        \"semantic_type\": \"\",\n        \"description\": \"\"\n      }\n    },\n    {\n      \"column\": \"trading_experience\",\n      \"properties\": {\n        \"dtype\": \"string\",\n        \"num_unique_values\": 2,\n        \"samples\": [],\n        \"semantic_type\": \"\",\n        \"description\": \"\"\n      }\n    },\n    {\n      \"column\": \"financial_knowledge\",\n      \"properties\": {\n        \"dtype\": \"string\",\n        \"num_unique_values\": 2,\n        \"samples\": [],\n        \"semantic_type\": \"\",\n        \"description\": \"\"\n      }\n    },\n    {\n      \"column\": \"Logic networth\",\n      \"properties\": {\n        \"dtype\": \"number\",\n        \"std\": null,\n        \"min\": null,\n        \"max\": null,\n        \"num_unique_values\": 0,\n        \"samples\": [],\n        \"semantic_type\": \"\",\n        \"description\": \"\"\n      }\n    }\n  ]\n}"
            }
          },
          "metadata": {},
          "execution_count": 123
        }
      ]
    },
    {
      "cell_type": "markdown",
      "source": [
        "## ETL Process"
      ],
      "metadata": {
        "id": "kK99KD-YyCsq"
      }
    },
    {
      "cell_type": "code",
      "source": [
        "#@title 3.1: Check for Nan values, replace with 0\n",
        "df.fillna(0, inplace=True)"
      ],
      "metadata": {
        "id": "XQQOD_VgxsBM"
      },
      "execution_count": 124,
      "outputs": []
    },
    {
      "cell_type": "code",
      "source": [
        "#@title 3.2: Remove any rows that dob = 0\n",
        "df = df[df['dob'] != 0]"
      ],
      "metadata": {
        "id": "sFmBj60L1eO3"
      },
      "execution_count": 125,
      "outputs": []
    },
    {
      "cell_type": "code",
      "source": [
        "#@title 3.3: Covert the dob field\n",
        "# Convert dob to datetime\n",
        "df['dob'] = pd.to_datetime(df['dob'], dayfirst=True)\n",
        "\n",
        "# Calculate age\n",
        "today = datetime.datetime.now()\n",
        "df['age'] = today.year - df['dob'].dt.year\n",
        "\n",
        "# Remove ages under 21\n",
        "df = df[df['age'] >= 21]\n",
        "\n",
        "# Assign logic for age categories\n",
        "def categorize_age(age):\n",
        "    if 21 <= age <= 29:\n",
        "        return 0\n",
        "    elif 30 <= age <= 39:\n",
        "        return 1\n",
        "    elif 40 <= age <= 49:\n",
        "        return 2\n",
        "    elif 50 <= age <= 59:\n",
        "        return 3\n",
        "    elif 60 <= age <= 68:\n",
        "        return 4\n",
        "    else:\n",
        "        return 5\n",
        "\n",
        "df['age_category'] = df['age'].apply(categorize_age)"
      ],
      "metadata": {
        "colab": {
          "base_uri": "https://localhost:8080/"
        },
        "id": "V79p7nhtyP9Q",
        "outputId": "26094dac-d549-4054-e98b-65a2f9ddd9be"
      },
      "execution_count": 126,
      "outputs": [
        {
          "output_type": "stream",
          "name": "stderr",
          "text": [
            "<ipython-input-126-4f113a244761>:3: UserWarning: Parsing dates in MM/DD/YYYY format when dayfirst=True was specified. This may lead to inconsistently parsed dates! Specify a format to ensure consistent parsing.\n",
            "  df['dob'] = pd.to_datetime(df['dob'], dayfirst=True)\n"
          ]
        }
      ]
    },
    {
      "cell_type": "code",
      "source": [
        "#@title 3.4: Covert 'employment_status' to 0 and 1\n",
        "df['employment_status'] = df['employment_status'].apply(lambda x: 0 if x == 'U' else 1)"
      ],
      "metadata": {
        "id": "42JJTgRJ2PLw"
      },
      "execution_count": 127,
      "outputs": []
    },
    {
      "cell_type": "code",
      "source": [
        "#@title 3.5: Convert 'whether_you_are_employed_by_a_brokerage_firm' to 0 and 1\n",
        "df['whether_you_are_employed_by_a_brokerage_firm'] = df['whether_you_are_employed_by_a_brokerage_firm'].apply(lambda x: 0 if x == 'N' else 1)"
      ],
      "metadata": {
        "id": "Bd8PEzgQ2rR-"
      },
      "execution_count": 128,
      "outputs": []
    },
    {
      "cell_type": "code",
      "source": [
        "#@title 3.6: Convert 'investment_experience_and_objectives' to a numeric value N=0, S=1, M=2\n",
        "df['investment_experience_and_objectives'] = df['investment_experience_and_objectives'].apply(lambda x: 0 if x == 'N' else 1 if x == 'S' else 2)"
      ],
      "metadata": {
        "id": "7ZCSFqyO29vo"
      },
      "execution_count": 129,
      "outputs": []
    },
    {
      "cell_type": "code",
      "source": [
        "#@title 3.7: Covert 'investment_time_horizon' to S=0, M=1, L=2\n",
        "df['investment_time_horizon'] = df['investment_time_horizon'].apply(lambda x: 0 if x == 'short' else 1 if x == 'medium' else 2)"
      ],
      "metadata": {
        "id": "5UAbXXg53jqc"
      },
      "execution_count": 130,
      "outputs": []
    },
    {
      "cell_type": "code",
      "source": [
        "#@title 3.8: Convert 'trading_experience' N=0, S=1, M=2 (N=none, S=some, M=much)\n",
        "df['trading_experience'] = df['trading_experience'].apply(lambda x: 0 if x == 'N' else 1 if x == 'S' else 2)"
      ],
      "metadata": {
        "id": "bPQ0MeZW4HoA"
      },
      "execution_count": 131,
      "outputs": []
    },
    {
      "cell_type": "code",
      "source": [
        "#@title 3.9: Covert 'tax_status' S=0, M=1, D=2, W=3\n",
        "df['tax_status'] = df['tax_status'].apply(lambda x: 0 if x == 'S' else 1 if x == 'M' else 2 if x == 'D' else 3)"
      ],
      "metadata": {
        "id": "IPkb-B9O-xJj"
      },
      "execution_count": 132,
      "outputs": []
    },
    {
      "cell_type": "code",
      "source": [
        "#@title 3.10: Convert 'financial_knowledge' N=0, M=1, G=2 (N=none, M= medium, G= good)\n",
        "df['financial_knowledge'] = df['financial_knowledge'].apply(lambda x: 0 if x == 'N' else 1 if x == 'M' else 2)"
      ],
      "metadata": {
        "id": "a2dp5Chb6PuQ"
      },
      "execution_count": 133,
      "outputs": []
    },
    {
      "cell_type": "code",
      "source": [
        "#@title 3.11: Calculate the 'Logic networth' if 'net_worth' <=100000 then = 0, etc.\n",
        "def categorize_net_worth(net_worth):\n",
        "    if net_worth <= 100000:\n",
        "        return 0\n",
        "    elif 100000 < net_worth <= 200000:\n",
        "        return 1\n",
        "    elif 200000 < net_worth <= 300000:\n",
        "        return 2\n",
        "    elif 300000 < net_worth <= 400000:\n",
        "        return 3\n",
        "    elif 400000 < net_worth <= 500000:\n",
        "        return 5\n",
        "    elif 500000 < net_worth <= 600000:\n",
        "        return 6\n",
        "    elif 600000 < net_worth <= 700000:\n",
        "        return 7\n",
        "    elif 700000 < net_worth <= 800000:\n",
        "        return 8\n",
        "    elif 800000 < net_worth <= 900000:\n",
        "        return 9\n",
        "    elif net_worth > 900000:\n",
        "        return 10\n",
        "    return -1  # Just in case there are any out-of-bound values\n",
        "\n",
        "# Apply the function to the 'net_worth' column to create 'Logic networth'\n",
        "df['Logic networth'] = df['net_worth'].apply(categorize_net_worth)"
      ],
      "metadata": {
        "id": "RvQ7n4A98THm"
      },
      "execution_count": 134,
      "outputs": []
    },
    {
      "cell_type": "code",
      "source": [
        "#@title 3.12: Function to categorize annual income\n",
        "def categorize_annual_income(income):\n",
        "    if income < 100000:\n",
        "        return 0\n",
        "    elif 100000 <= income < 300000:\n",
        "        return 1\n",
        "    elif 300000 <= income < 600000:\n",
        "        return 2\n",
        "    elif income >= 600000:\n",
        "        return 3\n",
        "    return -1  # In case there are any out-of-bound values\n",
        "\n",
        "# Apply the function to the 'annual_income' column to create 'annual_income_score'\n",
        "df['annual_income_score'] = df['annual_income'].apply(categorize_annual_income)"
      ],
      "metadata": {
        "id": "VeZbksqbAdfE"
      },
      "execution_count": 135,
      "outputs": []
    },
    {
      "cell_type": "code",
      "source": [
        "#@title 4: Calculate the Risk Factor 'liquidity_needs_and_tolerance_for_risk'\n",
        "# Sum the specified fields\n",
        "df['total'] = df['age_category'] + df['employment_status'] + df['investment_experience_and_objectives'] \\\n",
        "              + df['investment_time_horizon'] + df['trading_experience'] + df['tax_status'] \\\n",
        "              + df['financial_knowledge'] + df['Logic networth'] + df['annual_income_score']\n",
        "\n",
        "# Function to categorize the total\n",
        "def categorize_total(total):\n",
        "    if 0 <= total <= 10: # minimum drawdown\n",
        "        return 0\n",
        "    elif 11 <= total <= 20: # max return\n",
        "        return 1\n",
        "    elif 21 <= total <= 30: # Min drawdown + max return\n",
        "        return 2\n",
        "    return -1  # In case there are any out-of-bound values\n",
        "\n",
        "# Apply the function to categorize the total into the 'liquidity_needs_and_tolerance_for_risk'\n",
        "df['liquidity_needs_and_tolerance_for_risk'] = df['total'].apply(categorize_total)\n",
        "\n",
        "# Drop the 'total' column if it's no longer needed\n",
        "df.drop('total', axis=1, inplace=True)"
      ],
      "metadata": {
        "id": "sYfxyw0NDaW4"
      },
      "execution_count": 136,
      "outputs": []
    }
  ]
}